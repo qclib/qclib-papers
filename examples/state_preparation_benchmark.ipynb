{
 "cells": [
  {
   "cell_type": "code",
   "execution_count": 1,
   "metadata": {},
   "outputs": [
    {
     "data": {
      "text/markdown": [
       "| method | lib | qubits | cnots | depth |\n",
       "| --- | --- |:---:|:---:|:---:|\n",
       "| low-rank | qclib | 15 | 30998 | 53643 |\n",
       "| svd | qclib | 15 | 38814 | 71580 |\n",
       "| ucg | qclib | 15 | 32752 | 65505 |\n",
       "| isometry | qiskit | 15 | 32752 | 65505 |\n",
       "| multiplexor | qiskit | 15 | 65504 | 131025 |\n",
       "| bdsp | qclib | 1151 | 72320 | 1603 |\n",
       "| dcsp | qclib | 32767 | 262016 | 899 |\n"
      ],
      "text/plain": [
       "<IPython.core.display.Markdown object>"
      ]
     },
     "metadata": {},
     "output_type": "display_data"
    }
   ],
   "source": [
    "import numpy as np\n",
    "from IPython.display import Markdown, display\n",
    "from qiskit import QuantumCircuit, QuantumRegister, transpile\n",
    "from qclib.state_preparation import (\n",
    "    LowRankInitialize,\n",
    "    DcspInitialize,\n",
    "    BdspInitialize,\n",
    "    SVDInitialize,\n",
    "    UCGInitialize\n",
    ")\n",
    "\n",
    "n_qubits = 15\n",
    "\n",
    "state = np.random.rand(2 ** n_qubits) + np.random.rand(2 ** n_qubits) * 1j\n",
    "state = state/np.linalg.norm(state)\n",
    "\n",
    "# qclib low-rank\n",
    "circuit_low = QuantumCircuit(n_qubits)\n",
    "LowRankInitialize.initialize(circuit_low, state)\n",
    "# qclib svd\n",
    "circuit_svd = QuantumCircuit(n_qubits)\n",
    "SVDInitialize.initialize(circuit_svd, state)\n",
    "# qclib ucg\n",
    "circuit_ucg = QuantumCircuit(n_qubits)\n",
    "UCGInitialize.initialize(circuit_ucg, state)\n",
    "# qclib bdsp\n",
    "circuit_bdsp = BdspInitialize(state).definition\n",
    "# qclib dcsp\n",
    "circuit_dcsp = DcspInitialize(state).definition\n",
    "# qiskit multiplexor\n",
    "circuit_mul = QuantumCircuit(n_qubits)\n",
    "circuit_mul.initialize(state)\n",
    "# qiskit isometry\n",
    "reg_iso = QuantumRegister(n_qubits)\n",
    "circuit_iso = QuantumCircuit(reg_iso)\n",
    "circuit_iso.isometry(state, q_input=[], q_ancillas_for_output=reg_iso)\n",
    "\n",
    "# print results\n",
    "circuits = [('low-rank',    'qclib',  circuit_low),\n",
    "            ('svd',         'qclib',  circuit_svd),\n",
    "            ('ucg',         'qclib',  circuit_ucg),\n",
    "            ('isometry',    'qiskit', circuit_iso),\n",
    "            ('multiplexor', 'qiskit', circuit_mul),\n",
    "            ('bdsp',        'qclib',  circuit_bdsp),\n",
    "            ('dcsp',        'qclib',  circuit_dcsp)]\n",
    "\n",
    "table = '| method | lib | qubits | cnots | depth |\\n'\n",
    "table += '| --- | --- |:---:|:---:|:---:|\\n'\n",
    "for label, lib, circuit in circuits:\n",
    "    transpiled = transpile(circuit, basis_gates=['u', 'cx'], optimization_level=0)\n",
    "\n",
    "    qubits = len(transpiled.qubits)\n",
    "    depth = transpiled.depth()\n",
    "    cx = transpiled.count_ops().get('cx', 0)\n",
    "\n",
    "    table += f'| {label} | {lib} | {qubits} | {cx} | {depth} |\\n'\n",
    "\n",
    "display(Markdown(table))\n"
   ]
  }
 ],
 "metadata": {
  "kernelspec": {
   "display_name": "Python 3.10.8 ('qclib')",
   "language": "python",
   "name": "python3"
  },
  "language_info": {
   "codemirror_mode": {
    "name": "ipython",
    "version": 3
   },
   "file_extension": ".py",
   "mimetype": "text/x-python",
   "name": "python",
   "nbconvert_exporter": "python",
   "pygments_lexer": "ipython3",
   "version": "3.10.8"
  },
  "orig_nbformat": 4,
  "vscode": {
   "interpreter": {
    "hash": "018dbd7c02aa137147a9a5f35fe59f9207ca8421de2c119127a3120ffe48af63"
   }
  }
 },
 "nbformat": 4,
 "nbformat_minor": 2
}
