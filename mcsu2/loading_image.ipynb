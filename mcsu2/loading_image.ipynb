{
 "cells": [
  {
   "attachments": {},
   "cell_type": "markdown",
   "id": "63be9e4b",
   "metadata": {},
   "source": [
    "# Loading images\n",
    "### Section 4 (Figure 13 and Table 1)"
   ]
  },
  {
   "cell_type": "code",
   "execution_count": 2,
   "id": "a12ae81b",
   "metadata": {},
   "outputs": [],
   "source": [
    "import numpy as np\n",
    "from qiskit import IBMQ, execute, transpile, QuantumCircuit\n",
    "from qiskit.tools.monitor import job_monitor\n",
    "\n",
    "from qclib.state_preparation import CvoqramInitialize\n",
    "from qclib.gates.initialize_sparse import InitializeSparse\n",
    "from qclib.util import double_sparse"
   ]
  },
  {
   "cell_type": "code",
   "execution_count": 3,
   "id": "aff80e7e",
   "metadata": {},
   "outputs": [],
   "source": [
    "# Image load.\n",
    "n_qubits = 5\n",
    "matrix_dim = int(2**(n_qubits/2))\n",
    "\n",
    "np.random.seed(7)\n",
    "sparse = double_sparse(n_qubits, 3, 0.1)\n",
    "\n",
    "vec = []\n",
    "for index in range(2**n_qubits):\n",
    "    b_str = f'{index:0{n_qubits}b}'\n",
    "    if b_str in sparse:\n",
    "        vec.append(1)\n",
    "    else:\n",
    "        vec.append(complex(0.0))\n",
    "\n",
    "input_state = vec/np.linalg.norm(vec)"
   ]
  },
  {
   "cell_type": "code",
   "execution_count": 4,
   "id": "30950879",
   "metadata": {},
   "outputs": [],
   "source": [
    "# Plots examples of the states that represent the images.\n",
    "\n",
    "_dpi = 300\n",
    "def plot_digits(vectors, labels, text=''):\n",
    "    import matplotlib.pyplot as plt\n",
    "    ncols = len(vectors)\n",
    "    _, axes = plt.subplots(nrows=1, ncols=ncols, dpi=_dpi)\n",
    "    for ax, vector, label in zip(axes, vectors, labels):\n",
    "        ax.set_axis_off()\n",
    "        image = vector[:int(matrix_dim**2)].reshape(matrix_dim, matrix_dim)\n",
    "        ax.imshow(image, cmap=plt.cm.gray, interpolation='none')\n",
    "        ax.set_title(label)\n",
    "        \n",
    "    plt.savefig(f'save/smile{text}.pdf')\n",
    "    plt.show()"
   ]
  },
  {
   "cell_type": "code",
   "execution_count": 6,
   "id": "d75058fb",
   "metadata": {},
   "outputs": [],
   "source": [
    "IBMQ.load_account()\n",
    "provider = IBMQ.get_provider(hub='ibm-q')\n",
    "\n",
    "shots      = 8192\n",
    "backend  = provider.get_backend('ibm_oslo')"
   ]
  },
  {
   "cell_type": "code",
   "execution_count": 7,
   "id": "304574d1",
   "metadata": {},
   "outputs": [],
   "source": [
    "def measurement(job):\n",
    "    counts = job.result().get_counts()\n",
    "    v = sum(counts.values())\n",
    "    \n",
    "    counts2 = {}\n",
    "    for m in range(2**n_qubits):\n",
    "        pattern = '{:0{}b}'.format(m, n_qubits)\n",
    "        if pattern in counts:\n",
    "            counts2[pattern] = counts[pattern]\n",
    "        else:\n",
    "            counts2[pattern] = 0.0\n",
    "\n",
    "    prob = { key : value/v for (key, value) in counts2.items() }\n",
    "\n",
    "    return np.array([val for key, val in prob.items()])    "
   ]
  },
  {
   "cell_type": "code",
   "execution_count": 8,
   "id": "831afd03",
   "metadata": {},
   "outputs": [],
   "source": [
    "jobs = {}\n",
    "circuits = {}\n",
    "t_circuits = {}"
   ]
  },
  {
   "cell_type": "code",
   "execution_count": 9,
   "id": "c77fbe44",
   "metadata": {},
   "outputs": [],
   "source": [
    "initializers = {\n",
    "    'cvo qiskit':(CvoqramInitialize, {'with_aux':False, 'mcg_method':'qiskit'}),\n",
    "    'cvo barenco':(CvoqramInitialize, {'with_aux':False, 'mcg_method':'barenco'}),\n",
    "    'cvo linear':(CvoqramInitialize, {'with_aux':False, 'mcg_method':'linear'}),\n",
    "}"
   ]
  },
  {
   "cell_type": "code",
   "execution_count": 10,
   "id": "b095e86b",
   "metadata": {},
   "outputs": [
    {
     "name": "stdout",
     "output_type": "stream",
     "text": [
      "cvo qiskit  6  cvo barenco  6  cvo linear  6  "
     ]
    }
   ],
   "source": [
    "# Build the quantum circuits\n",
    "for label, (initializer, opt_params) in initializers.items():\n",
    "    print(label, ' ', end='')\n",
    "    \n",
    "    if issubclass(initializer, InitializeSparse):\n",
    "        data = {f'{b:0{n_qubits}b}':d for b, d in enumerate(input_state) if d > 10**-15}\n",
    "    else:\n",
    "        data = input_state\n",
    "\n",
    "    gate = initializer(data, opt_params=opt_params).definition\n",
    "    circuit = QuantumCircuit(gate.num_qubits, n_qubits)\n",
    "    circuit.append(gate, circuit.qubits)\n",
    "    \n",
    "    print(gate.num_qubits, ' ', end='')\n",
    "\n",
    "    if label[:3] == 'cvo':\n",
    "        circuit.measure(list(range(1, n_qubits+1)), list(range(n_qubits)))\n",
    "    else:\n",
    "        circuit.measure(list(range(n_qubits)), list(range(n_qubits)))\n",
    "\n",
    "    circuits[label] = circuit"
   ]
  },
  {
   "cell_type": "code",
   "execution_count": 11,
   "id": "d8acd6fb",
   "metadata": {},
   "outputs": [
    {
     "name": "stdout",
     "output_type": "stream",
     "text": [
      "cvo qiskit  149 320  cvo barenco  82 190  cvo linear  39 113  "
     ]
    }
   ],
   "source": [
    "# Table 1 CNOTs and depth (MAEs for Table 1 in the last cell)\n",
    "\n",
    "# Transpile the quantum circuits and count the number of CNOTs\n",
    "for label, (initializer, opt_params) in initializers.items():\n",
    "    print(label, ' ', end='')\n",
    "    circuit = circuits[label]\n",
    "\n",
    "    t_circuit = transpile(\n",
    "        circuit,\n",
    "        backend=backend,\n",
    "        optimization_level=3\n",
    "    )\n",
    "    ops = t_circuit.count_ops()\n",
    "    print(ops.get('cx', 0), t_circuit.depth(), ' ', end='')\n",
    "\n",
    "    t_circuits[label] = t_circuit"
   ]
  },
  {
   "cell_type": "code",
   "execution_count": 12,
   "id": "5be29f78",
   "metadata": {},
   "outputs": [],
   "source": [
    "for label, (initializer, opt_params) in initializers.items():\n",
    "    jobs[label] = []"
   ]
  },
  {
   "cell_type": "code",
   "execution_count": 53,
   "id": "525d14b1",
   "metadata": {},
   "outputs": [
    {
     "name": "stdout",
     "output_type": "stream",
     "text": [
      "cvo qiskit  .cvo barenco  .cvo linear  ."
     ]
    }
   ],
   "source": [
    "import time\n",
    "from qiskit.providers.jobstatus import JobStatus\n",
    "\n",
    "def count_running_jobs(jobs):\n",
    "    count = 0\n",
    "    for _, jobs_list in jobs.items():\n",
    "        count += sum([job.status() in (\n",
    "            JobStatus.RUNNING, JobStatus.INITIALIZING, JobStatus.QUEUED, JobStatus.VALIDATING\n",
    "        ) for job in jobs_list])\n",
    "    return count\n",
    "\n",
    "reps = 1\n",
    "\n",
    "for label, (initializer, opt_params) in initializers.items():\n",
    "    print(label, ' ', end='')\n",
    "\n",
    "    for rep in range(reps):\n",
    "        print('.', end='')\n",
    "        while count_running_jobs(jobs) >= 20: # maximum number (20) of concurrent jobs\n",
    "            time.sleep(5) # Sleep for 5 seconds\n",
    "\n",
    "        job = execute(\n",
    "            circuits[label],\n",
    "            backend,\n",
    "            shots=shots,\n",
    "            optimization_level=3,\n",
    "        )\n",
    "        jobs[label].append(job)\n"
   ]
  },
  {
   "cell_type": "code",
   "execution_count": null,
   "id": "6a7be164",
   "metadata": {},
   "outputs": [],
   "source": [
    "_images = []\n",
    "_labels = []\n",
    "_images.append(np.abs(input_state)**2)\n",
    "_labels.append('ideal')\n",
    "for label, (initializer, opt_params) in initializers.items():\n",
    "    print(label,' ', end='')\n",
    "    print(len(jobs[label]), end='')\n",
    "    results = []\n",
    "    for job in jobs[label]:\n",
    "        print('.', end='')\n",
    "        job_monitor(job, quiet=True)\n",
    "        try:\n",
    "            results.append(measurement(job))\n",
    "        except Exception as e:\n",
    "            print('erro:', e)\n",
    "\n",
    "    _images.append(np.mean(results, axis=0))\n",
    "    _labels.append(label)"
   ]
  },
  {
   "cell_type": "code",
   "execution_count": 82,
   "id": "94ec08ee",
   "metadata": {},
   "outputs": [
    {
     "data": {
      "image/png": "[encoded data removed]",
      "text/plain": [
       "<Figure size 1920x1440 with 4 Axes>"
      ]
     },
     "metadata": {},
     "output_type": "display_data"
    }
   ],
   "source": [
    "plot_digits(_images, _labels, '_'+backend.name())"
   ]
  },
  {
   "cell_type": "code",
   "execution_count": 83,
   "id": "4afd3f05",
   "metadata": {},
   "outputs": [
    {
     "name": "stdout",
     "output_type": "stream",
     "text": [
      "0.0\n",
      "0.04541015624999999\n",
      "0.03137207031249999\n",
      "0.016540527343749993\n"
     ]
    }
   ],
   "source": [
    "# Table 1 MAEs\n",
    "\n",
    "def mae(state, ideal):\n",
    "    \"\"\"\n",
    "    Mean Absolute Error\n",
    "    \"\"\"\n",
    "    return np.sum(np.abs(state-ideal))/len(ideal)\n",
    "\n",
    "for image in _images:\n",
    "    print(mae(_images[0], image))"
   ]
  }
 ],
 "metadata": {
  "kernelspec": {
   "display_name": "qclib",
   "language": "python",
   "name": "python3"
  },
  "language_info": {
   "codemirror_mode": {
    "name": "ipython",
    "version": 3
   },
   "file_extension": ".py",
   "mimetype": "text/x-python",
   "name": "python",
   "nbconvert_exporter": "python",
   "pygments_lexer": "ipython3",
   "version": "3.10.8"
  },
  "vscode": {
   "interpreter": {
    "hash": "018dbd7c02aa137147a9a5f35fe59f9207ca8421de2c119127a3120ffe48af63"
   }
  }
 },
 "nbformat": 4,
 "nbformat_minor": 5
}
